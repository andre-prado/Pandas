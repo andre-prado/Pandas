{
 "cells": [
  {
   "cell_type": "code",
   "execution_count": 14,
   "metadata": {},
   "outputs": [],
   "source": [
    "import pandas as pd\n",
    "from cria_dici import cria_dici"
   ]
  },
  {
   "cell_type": "markdown",
   "metadata": {},
   "source": [
    "## Abrindo arquivo de texto e gerando um dicionário"
   ]
  },
  {
   "cell_type": "code",
   "execution_count": 15,
   "metadata": {
    "scrolled": true
   },
   "outputs": [
    {
     "name": "stdout",
     "output_type": "stream",
     "text": [
      "Well, I've been watching, while you've been coughing.\n",
      "I've been drinking life, while you've been nauseous.\n",
      "And so I drink to health, while you kill yourself.\n",
      "And I've got just one thing that I can offer,\n",
      "\n",
      "Go on and save yourself, and take it out on me.\n",
      "Go on and save yourself, and take it out on me. Yeah.\n",
      "\n",
      "I'm not a martyr, I'm not a prophet,\n",
      "And I won't preach to you, but here's a caution;\n",
      "You better understand, that I won't hold your hand,\n",
      "But if it helps you mend, then I won't stop it.\n",
      "\n",
      "Go on and save yourself, and take it out on me.\n",
      "Go on and save yourself, and take it out on me.\n",
      "Go on and save yourself, and take it out on me.\n",
      "Go on and save yourself, and take it out on me. Yeah.\n",
      "\n",
      "Drown if you want, and I'll see you at the bottom,\n",
      "Where you'll crawl on my skin and put the blame on me, so you don't feel a thing.\n",
      "\n",
      "Go on and save yourself, and take it out on me.\n",
      "Go on and save yourself, and take it out on me.\n",
      "Go on and save yourself, and take it out on me.\n",
      "Go on and save yourself, and take it out on me. Yeah.\n"
     ]
    }
   ],
   "source": [
    "f = open('music.txt', 'r')\n",
    "text = f.read()\n",
    "print(text)\n",
    "f.close()"
   ]
  },
  {
   "cell_type": "markdown",
   "metadata": {},
   "source": [
    "## Utilizando uma função para criar um dicionário a partir de uma lista de palavras"
   ]
  },
  {
   "cell_type": "code",
   "execution_count": 16,
   "metadata": {
    "scrolled": true
   },
   "outputs": [],
   "source": [
    "dici_palavras = cria_dici(text)"
   ]
  },
  {
   "cell_type": "code",
   "execution_count": 18,
   "metadata": {},
   "outputs": [],
   "source": [
    "palavras_df = pd.DataFrame(data=dici_palavras, index=[0])"
   ]
  },
  {
   "cell_type": "code",
   "execution_count": 19,
   "metadata": {},
   "outputs": [
    {
     "data": {
      "text/html": [
       "<div>\n",
       "<style scoped>\n",
       "    .dataframe tbody tr th:only-of-type {\n",
       "        vertical-align: middle;\n",
       "    }\n",
       "\n",
       "    .dataframe tbody tr th {\n",
       "        vertical-align: top;\n",
       "    }\n",
       "\n",
       "    .dataframe thead th {\n",
       "        text-align: right;\n",
       "    }\n",
       "</style>\n",
       "<table border=\"1\" class=\"dataframe\">\n",
       "  <thead>\n",
       "    <tr style=\"text-align: right;\">\n",
       "      <th></th>\n",
       "      <th>Well,</th>\n",
       "      <th>I've</th>\n",
       "      <th>been</th>\n",
       "      <th>watching,</th>\n",
       "      <th>while</th>\n",
       "      <th>you've</th>\n",
       "      <th>coughing.</th>\n",
       "      <th>drinking</th>\n",
       "      <th>life,</th>\n",
       "      <th>nauseous.</th>\n",
       "      <th>...</th>\n",
       "      <th>you'll</th>\n",
       "      <th>crawl</th>\n",
       "      <th>my</th>\n",
       "      <th>skin</th>\n",
       "      <th>put</th>\n",
       "      <th>blame</th>\n",
       "      <th>me,</th>\n",
       "      <th>don't</th>\n",
       "      <th>feel</th>\n",
       "      <th>thing.</th>\n",
       "    </tr>\n",
       "  </thead>\n",
       "  <tbody>\n",
       "    <tr>\n",
       "      <td>0</td>\n",
       "      <td>1</td>\n",
       "      <td>3</td>\n",
       "      <td>4</td>\n",
       "      <td>1</td>\n",
       "      <td>3</td>\n",
       "      <td>2</td>\n",
       "      <td>1</td>\n",
       "      <td>1</td>\n",
       "      <td>1</td>\n",
       "      <td>1</td>\n",
       "      <td>...</td>\n",
       "      <td>1</td>\n",
       "      <td>1</td>\n",
       "      <td>1</td>\n",
       "      <td>1</td>\n",
       "      <td>1</td>\n",
       "      <td>1</td>\n",
       "      <td>1</td>\n",
       "      <td>1</td>\n",
       "      <td>1</td>\n",
       "      <td>1</td>\n",
       "    </tr>\n",
       "  </tbody>\n",
       "</table>\n",
       "<p>1 rows × 78 columns</p>\n",
       "</div>"
      ],
      "text/plain": [
       "   Well,  I've  been  watching,  while  you've  coughing.  drinking  life,  \\\n",
       "0      1     3     4          1      3       2          1         1      1   \n",
       "\n",
       "   nauseous.  ...  you'll  crawl  my  skin  put  blame  me,  don't  feel  \\\n",
       "0          1  ...       1      1   1     1    1      1    1      1     1   \n",
       "\n",
       "   thing.  \n",
       "0       1  \n",
       "\n",
       "[1 rows x 78 columns]"
      ]
     },
     "execution_count": 19,
     "metadata": {},
     "output_type": "execute_result"
    }
   ],
   "source": [
    "palavras_df"
   ]
  },
  {
   "cell_type": "markdown",
   "metadata": {},
   "source": [
    " ## FFVII - Personagens e Idades"
   ]
  },
  {
   "cell_type": "code",
   "execution_count": null,
   "metadata": {},
   "outputs": [],
   "source": []
  }
 ],
 "metadata": {
  "kernelspec": {
   "display_name": "Python 3",
   "language": "python",
   "name": "python3"
  },
  "language_info": {
   "codemirror_mode": {
    "name": "ipython",
    "version": 3
   },
   "file_extension": ".py",
   "mimetype": "text/x-python",
   "name": "python",
   "nbconvert_exporter": "python",
   "pygments_lexer": "ipython3",
   "version": "3.7.4"
  }
 },
 "nbformat": 4,
 "nbformat_minor": 2
}
